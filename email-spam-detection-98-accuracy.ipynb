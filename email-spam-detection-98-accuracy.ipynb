{
 "cells": [
  {
   "cell_type": "markdown",
   "id": "outer-ferry",
   "metadata": {
    "papermill": {
     "duration": 0.015603,
     "end_time": "2022-10-26T16:38:28.731549",
     "exception": false,
     "start_time": "2022-10-26T16:38:28.715946",
     "status": "completed"
    },
    "tags": []
   },
   "source": [
    "<img src=\"https://helpemailmarketing.com/wp-content/uploads/2019/12/spam-filter-34101a1e6c494d44aa1b6d10302537da.jpg\"  style='width:1000px'>"
   ]
  },
  {
   "cell_type": "code",
   "execution_count": 1,
   "id": "rubber-spelling",
   "metadata": {
    "_cell_guid": "b1076dfc-b9ad-4769-8c92-a6c4dae69d19",
    "_uuid": "8f2839f25d086af736a60e9eeb907d3b93b6e0e5",
    "execution": {
     "iopub.execute_input": "2022-10-26T16:38:28.766880Z",
     "iopub.status.busy": "2022-10-26T16:38:28.765077Z",
     "iopub.status.idle": "2022-10-26T16:38:28.782107Z",
     "shell.execute_reply": "2022-10-26T16:38:28.782788Z",
     "shell.execute_reply.started": "2021-06-21T08:27:20.974293Z"
    },
    "papermill": {
     "duration": 0.037089,
     "end_time": "2022-10-26T16:38:28.783199",
     "exception": false,
     "start_time": "2022-10-26T16:38:28.746110",
     "status": "completed"
    },
    "tags": []
   },
   "outputs": [
    {
     "name": "stdout",
     "output_type": "stream",
     "text": [
      "/kaggle/input/spam-email/spam.csv\n"
     ]
    }
   ],
   "source": [
    "# This Python 3 environment comes with many helpful analytics libraries installed\n",
    "# It is defined by the kaggle/python Docker image: https://github.com/kaggle/docker-python\n",
    "# For example, here's several helpful packages to load\n",
    "\n",
    "import numpy as np # linear algebra\n",
    "import pandas as pd # data processing, CSV file I/O (e.g. pd.read_csv)\n",
    "\n",
    "# Input data files are available in the read-only \"../input/\" directory\n",
    "# For example, running this (by clicking run or pressing Shift+Enter) will list all files under the input directory\n",
    "\n",
    "import os\n",
    "for dirname, _, filenames in os.walk('/kaggle/input'):\n",
    "    for filename in filenames:\n",
    "        print(os.path.join(dirname, filename))\n",
    "\n",
    "# You can write up to 20GB to the current directory (/kaggle/working/) that gets preserved as output when you create a version using \"Save & Run All\" \n",
    "# You can also write temporary files to /kaggle/temp/, but they won't be saved outside of the current session"
   ]
  },
  {
   "cell_type": "code",
   "execution_count": 2,
   "id": "rising-qualification",
   "metadata": {
    "execution": {
     "iopub.execute_input": "2022-10-26T16:38:28.818614Z",
     "iopub.status.busy": "2022-10-26T16:38:28.817837Z",
     "iopub.status.idle": "2022-10-26T16:38:28.876956Z",
     "shell.execute_reply": "2022-10-26T16:38:28.877527Z",
     "shell.execute_reply.started": "2021-06-21T08:27:20.983329Z"
    },
    "papermill": {
     "duration": 0.07946,
     "end_time": "2022-10-26T16:38:28.877758",
     "exception": false,
     "start_time": "2022-10-26T16:38:28.798298",
     "status": "completed"
    },
    "tags": []
   },
   "outputs": [
    {
     "data": {
      "text/html": [
       "<div>\n",
       "<style scoped>\n",
       "    .dataframe tbody tr th:only-of-type {\n",
       "        vertical-align: middle;\n",
       "    }\n",
       "\n",
       "    .dataframe tbody tr th {\n",
       "        vertical-align: top;\n",
       "    }\n",
       "\n",
       "    .dataframe thead th {\n",
       "        text-align: right;\n",
       "    }\n",
       "</style>\n",
       "<table border=\"1\" class=\"dataframe\">\n",
       "  <thead>\n",
       "    <tr style=\"text-align: right;\">\n",
       "      <th></th>\n",
       "      <th>Category</th>\n",
       "      <th>Message</th>\n",
       "    </tr>\n",
       "  </thead>\n",
       "  <tbody>\n",
       "    <tr>\n",
       "      <th>0</th>\n",
       "      <td>ham</td>\n",
       "      <td>Go until jurong point, crazy.. Available only ...</td>\n",
       "    </tr>\n",
       "    <tr>\n",
       "      <th>1</th>\n",
       "      <td>ham</td>\n",
       "      <td>Ok lar... Joking wif u oni...</td>\n",
       "    </tr>\n",
       "    <tr>\n",
       "      <th>2</th>\n",
       "      <td>spam</td>\n",
       "      <td>Free entry in 2 a wkly comp to win FA Cup fina...</td>\n",
       "    </tr>\n",
       "    <tr>\n",
       "      <th>3</th>\n",
       "      <td>ham</td>\n",
       "      <td>U dun say so early hor... U c already then say...</td>\n",
       "    </tr>\n",
       "    <tr>\n",
       "      <th>4</th>\n",
       "      <td>ham</td>\n",
       "      <td>Nah I don't think he goes to usf, he lives aro...</td>\n",
       "    </tr>\n",
       "    <tr>\n",
       "      <th>...</th>\n",
       "      <td>...</td>\n",
       "      <td>...</td>\n",
       "    </tr>\n",
       "    <tr>\n",
       "      <th>5567</th>\n",
       "      <td>spam</td>\n",
       "      <td>This is the 2nd time we have tried 2 contact u...</td>\n",
       "    </tr>\n",
       "    <tr>\n",
       "      <th>5568</th>\n",
       "      <td>ham</td>\n",
       "      <td>Will ü b going to esplanade fr home?</td>\n",
       "    </tr>\n",
       "    <tr>\n",
       "      <th>5569</th>\n",
       "      <td>ham</td>\n",
       "      <td>Pity, * was in mood for that. So...any other s...</td>\n",
       "    </tr>\n",
       "    <tr>\n",
       "      <th>5570</th>\n",
       "      <td>ham</td>\n",
       "      <td>The guy did some bitching but I acted like i'd...</td>\n",
       "    </tr>\n",
       "    <tr>\n",
       "      <th>5571</th>\n",
       "      <td>ham</td>\n",
       "      <td>Rofl. Its true to its name</td>\n",
       "    </tr>\n",
       "  </tbody>\n",
       "</table>\n",
       "<p>5572 rows × 2 columns</p>\n",
       "</div>"
      ],
      "text/plain": [
       "     Category                                            Message\n",
       "0         ham  Go until jurong point, crazy.. Available only ...\n",
       "1         ham                      Ok lar... Joking wif u oni...\n",
       "2        spam  Free entry in 2 a wkly comp to win FA Cup fina...\n",
       "3         ham  U dun say so early hor... U c already then say...\n",
       "4         ham  Nah I don't think he goes to usf, he lives aro...\n",
       "...       ...                                                ...\n",
       "5567     spam  This is the 2nd time we have tried 2 contact u...\n",
       "5568      ham               Will ü b going to esplanade fr home?\n",
       "5569      ham  Pity, * was in mood for that. So...any other s...\n",
       "5570      ham  The guy did some bitching but I acted like i'd...\n",
       "5571      ham                         Rofl. Its true to its name\n",
       "\n",
       "[5572 rows x 2 columns]"
      ]
     },
     "execution_count": 2,
     "metadata": {},
     "output_type": "execute_result"
    }
   ],
   "source": [
    "data=pd.read_csv('/kaggle/input/spam-email/spam.csv')\n",
    "data"
   ]
  },
  {
   "cell_type": "code",
   "execution_count": 3,
   "id": "integrated-knowing",
   "metadata": {
    "execution": {
     "iopub.execute_input": "2022-10-26T16:38:28.915355Z",
     "iopub.status.busy": "2022-10-26T16:38:28.914418Z",
     "iopub.status.idle": "2022-10-26T16:38:28.918839Z",
     "shell.execute_reply": "2022-10-26T16:38:28.918302Z",
     "shell.execute_reply.started": "2021-06-21T08:27:21.019204Z"
    },
    "papermill": {
     "duration": 0.025771,
     "end_time": "2022-10-26T16:38:28.919000",
     "exception": false,
     "start_time": "2022-10-26T16:38:28.893229",
     "status": "completed"
    },
    "tags": []
   },
   "outputs": [
    {
     "data": {
      "text/plain": [
       "Index(['Category', 'Message'], dtype='object')"
      ]
     },
     "execution_count": 3,
     "metadata": {},
     "output_type": "execute_result"
    }
   ],
   "source": [
    "data.columns"
   ]
  },
  {
   "cell_type": "code",
   "execution_count": 4,
   "id": "romantic-lafayette",
   "metadata": {
    "execution": {
     "iopub.execute_input": "2022-10-26T16:38:28.954154Z",
     "iopub.status.busy": "2022-10-26T16:38:28.953148Z",
     "iopub.status.idle": "2022-10-26T16:38:28.973337Z",
     "shell.execute_reply": "2022-10-26T16:38:28.973826Z",
     "shell.execute_reply.started": "2021-06-21T08:27:21.028491Z"
    },
    "papermill": {
     "duration": 0.039468,
     "end_time": "2022-10-26T16:38:28.974039",
     "exception": false,
     "start_time": "2022-10-26T16:38:28.934571",
     "status": "completed"
    },
    "tags": []
   },
   "outputs": [
    {
     "name": "stdout",
     "output_type": "stream",
     "text": [
      "<class 'pandas.core.frame.DataFrame'>\n",
      "RangeIndex: 5572 entries, 0 to 5571\n",
      "Data columns (total 2 columns):\n",
      " #   Column    Non-Null Count  Dtype \n",
      "---  ------    --------------  ----- \n",
      " 0   Category  5572 non-null   object\n",
      " 1   Message   5572 non-null   object\n",
      "dtypes: object(2)\n",
      "memory usage: 87.2+ KB\n"
     ]
    }
   ],
   "source": [
    "data.info()"
   ]
  },
  {
   "cell_type": "markdown",
   "id": "confirmed-importance",
   "metadata": {
    "papermill": {
     "duration": 0.01526,
     "end_time": "2022-10-26T16:38:29.005662",
     "exception": false,
     "start_time": "2022-10-26T16:38:28.990402",
     "status": "completed"
    },
    "tags": []
   },
   "source": [
    "**Dropped The Column Unnamed: 0**"
   ]
  },
  {
   "cell_type": "code",
   "execution_count": 5,
   "id": "surprised-hamilton",
   "metadata": {
    "execution": {
     "iopub.execute_input": "2022-10-26T16:38:29.047415Z",
     "iopub.status.busy": "2022-10-26T16:38:29.046483Z",
     "iopub.status.idle": "2022-10-26T16:38:29.049935Z",
     "shell.execute_reply": "2022-10-26T16:38:29.050475Z",
     "shell.execute_reply.started": "2021-06-21T08:27:21.0495Z"
    },
    "papermill": {
     "duration": 0.029078,
     "end_time": "2022-10-26T16:38:29.050683",
     "exception": false,
     "start_time": "2022-10-26T16:38:29.021605",
     "status": "completed"
    },
    "tags": []
   },
   "outputs": [
    {
     "data": {
      "text/plain": [
       "Category    0\n",
       "Message     0\n",
       "dtype: int64"
      ]
     },
     "execution_count": 5,
     "metadata": {},
     "output_type": "execute_result"
    }
   ],
   "source": [
    "data.isna().sum()"
   ]
  },
  {
   "cell_type": "code",
   "execution_count": 6,
   "id": "adolescent-species",
   "metadata": {
    "execution": {
     "iopub.execute_input": "2022-10-26T16:38:29.098448Z",
     "iopub.status.busy": "2022-10-26T16:38:29.097330Z",
     "iopub.status.idle": "2022-10-26T16:38:29.101439Z",
     "shell.execute_reply": "2022-10-26T16:38:29.101899Z",
     "shell.execute_reply.started": "2021-06-21T08:27:21.067038Z"
    },
    "papermill": {
     "duration": 0.035122,
     "end_time": "2022-10-26T16:38:29.102118",
     "exception": false,
     "start_time": "2022-10-26T16:38:29.066996",
     "status": "completed"
    },
    "tags": []
   },
   "outputs": [
    {
     "data": {
      "text/html": [
       "<div>\n",
       "<style scoped>\n",
       "    .dataframe tbody tr th:only-of-type {\n",
       "        vertical-align: middle;\n",
       "    }\n",
       "\n",
       "    .dataframe tbody tr th {\n",
       "        vertical-align: top;\n",
       "    }\n",
       "\n",
       "    .dataframe thead th {\n",
       "        text-align: right;\n",
       "    }\n",
       "</style>\n",
       "<table border=\"1\" class=\"dataframe\">\n",
       "  <thead>\n",
       "    <tr style=\"text-align: right;\">\n",
       "      <th></th>\n",
       "      <th>Category</th>\n",
       "      <th>Message</th>\n",
       "      <th>Spam</th>\n",
       "    </tr>\n",
       "  </thead>\n",
       "  <tbody>\n",
       "    <tr>\n",
       "      <th>0</th>\n",
       "      <td>ham</td>\n",
       "      <td>Go until jurong point, crazy.. Available only ...</td>\n",
       "      <td>0</td>\n",
       "    </tr>\n",
       "    <tr>\n",
       "      <th>1</th>\n",
       "      <td>ham</td>\n",
       "      <td>Ok lar... Joking wif u oni...</td>\n",
       "      <td>0</td>\n",
       "    </tr>\n",
       "    <tr>\n",
       "      <th>2</th>\n",
       "      <td>spam</td>\n",
       "      <td>Free entry in 2 a wkly comp to win FA Cup fina...</td>\n",
       "      <td>1</td>\n",
       "    </tr>\n",
       "    <tr>\n",
       "      <th>3</th>\n",
       "      <td>ham</td>\n",
       "      <td>U dun say so early hor... U c already then say...</td>\n",
       "      <td>0</td>\n",
       "    </tr>\n",
       "    <tr>\n",
       "      <th>4</th>\n",
       "      <td>ham</td>\n",
       "      <td>Nah I don't think he goes to usf, he lives aro...</td>\n",
       "      <td>0</td>\n",
       "    </tr>\n",
       "  </tbody>\n",
       "</table>\n",
       "</div>"
      ],
      "text/plain": [
       "  Category                                            Message  Spam\n",
       "0      ham  Go until jurong point, crazy.. Available only ...     0\n",
       "1      ham                      Ok lar... Joking wif u oni...     0\n",
       "2     spam  Free entry in 2 a wkly comp to win FA Cup fina...     1\n",
       "3      ham  U dun say so early hor... U c already then say...     0\n",
       "4      ham  Nah I don't think he goes to usf, he lives aro...     0"
      ]
     },
     "execution_count": 6,
     "metadata": {},
     "output_type": "execute_result"
    }
   ],
   "source": [
    "data['Spam']=data['Category'].apply(lambda x:1 if x=='spam' else 0)\n",
    "data.head(5)"
   ]
  },
  {
   "cell_type": "code",
   "execution_count": 7,
   "id": "obvious-grass",
   "metadata": {
    "execution": {
     "iopub.execute_input": "2022-10-26T16:38:29.141359Z",
     "iopub.status.busy": "2022-10-26T16:38:29.140556Z",
     "iopub.status.idle": "2022-10-26T16:38:30.092429Z",
     "shell.execute_reply": "2022-10-26T16:38:30.091630Z",
     "shell.execute_reply.started": "2021-06-21T08:27:21.089708Z"
    },
    "papermill": {
     "duration": 0.973761,
     "end_time": "2022-10-26T16:38:30.092602",
     "exception": false,
     "start_time": "2022-10-26T16:38:29.118841",
     "status": "completed"
    },
    "tags": []
   },
   "outputs": [],
   "source": [
    "from sklearn.model_selection import train_test_split\n",
    "X_train,X_test,y_train,y_test=train_test_split(data.Message,data.Spam,test_size=0.25)"
   ]
  },
  {
   "cell_type": "code",
   "execution_count": 8,
   "id": "contemporary-psychiatry",
   "metadata": {
    "execution": {
     "iopub.execute_input": "2022-10-26T16:38:30.131644Z",
     "iopub.status.busy": "2022-10-26T16:38:30.130629Z",
     "iopub.status.idle": "2022-10-26T16:38:30.146892Z",
     "shell.execute_reply": "2022-10-26T16:38:30.147504Z",
     "shell.execute_reply.started": "2021-06-21T08:27:21.101454Z"
    },
    "papermill": {
     "duration": 0.038308,
     "end_time": "2022-10-26T16:38:30.147722",
     "exception": false,
     "start_time": "2022-10-26T16:38:30.109414",
     "status": "completed"
    },
    "tags": []
   },
   "outputs": [],
   "source": [
    "#CounterVectorizer Convert the text into matrics\n",
    "from sklearn.feature_extraction.text import CountVectorizer"
   ]
  },
  {
   "cell_type": "markdown",
   "id": "threatened-locking",
   "metadata": {
    "papermill": {
     "duration": 0.016064,
     "end_time": "2022-10-26T16:38:30.180686",
     "exception": false,
     "start_time": "2022-10-26T16:38:30.164622",
     "status": "completed"
    },
    "tags": []
   },
   "source": [
    "**Naive Bayes Have three Classifier(Bernouli,Multinominal,Gaussian)\n",
    "Here I use Multinominal Bayes Because here data in a discrete form \n",
    "discrete data(e.g movie ratings ranging  1 to 5 as each rating will have certain frequency to represent)**"
   ]
  },
  {
   "cell_type": "code",
   "execution_count": 9,
   "id": "funny-reservoir",
   "metadata": {
    "execution": {
     "iopub.execute_input": "2022-10-26T16:38:30.216889Z",
     "iopub.status.busy": "2022-10-26T16:38:30.216251Z",
     "iopub.status.idle": "2022-10-26T16:38:30.223315Z",
     "shell.execute_reply": "2022-10-26T16:38:30.223869Z",
     "shell.execute_reply.started": "2021-06-21T08:27:21.127559Z"
    },
    "papermill": {
     "duration": 0.027005,
     "end_time": "2022-10-26T16:38:30.224093",
     "exception": false,
     "start_time": "2022-10-26T16:38:30.197088",
     "status": "completed"
    },
    "tags": []
   },
   "outputs": [],
   "source": [
    "from sklearn.naive_bayes import MultinomialNB"
   ]
  },
  {
   "cell_type": "code",
   "execution_count": 10,
   "id": "divine-center",
   "metadata": {
    "execution": {
     "iopub.execute_input": "2022-10-26T16:38:30.260515Z",
     "iopub.status.busy": "2022-10-26T16:38:30.259858Z",
     "iopub.status.idle": "2022-10-26T16:38:30.266876Z",
     "shell.execute_reply": "2022-10-26T16:38:30.267413Z",
     "shell.execute_reply.started": "2021-06-21T08:27:21.137008Z"
    },
    "papermill": {
     "duration": 0.027078,
     "end_time": "2022-10-26T16:38:30.267625",
     "exception": false,
     "start_time": "2022-10-26T16:38:30.240547",
     "status": "completed"
    },
    "tags": []
   },
   "outputs": [],
   "source": [
    "from sklearn.pipeline import Pipeline\n",
    "clf=Pipeline([\n",
    "    ('vectorizer',CountVectorizer()),\n",
    "    ('nb',MultinomialNB())\n",
    "])"
   ]
  },
  {
   "cell_type": "markdown",
   "id": "sealed-peter",
   "metadata": {
    "papermill": {
     "duration": 0.01623,
     "end_time": "2022-10-26T16:38:30.300585",
     "exception": false,
     "start_time": "2022-10-26T16:38:30.284355",
     "status": "completed"
    },
    "tags": []
   },
   "source": [
    "# Tarining The Model"
   ]
  },
  {
   "cell_type": "code",
   "execution_count": 11,
   "id": "renewable-inquiry",
   "metadata": {
    "execution": {
     "iopub.execute_input": "2022-10-26T16:38:30.336871Z",
     "iopub.status.busy": "2022-10-26T16:38:30.336225Z",
     "iopub.status.idle": "2022-10-26T16:38:30.436137Z",
     "shell.execute_reply": "2022-10-26T16:38:30.436641Z",
     "shell.execute_reply.started": "2021-06-21T08:27:21.154277Z"
    },
    "papermill": {
     "duration": 0.119809,
     "end_time": "2022-10-26T16:38:30.436860",
     "exception": false,
     "start_time": "2022-10-26T16:38:30.317051",
     "status": "completed"
    },
    "tags": []
   },
   "outputs": [
    {
     "data": {
      "text/plain": [
       "Pipeline(steps=[('vectorizer', CountVectorizer()), ('nb', MultinomialNB())])"
      ]
     },
     "execution_count": 11,
     "metadata": {},
     "output_type": "execute_result"
    }
   ],
   "source": [
    "clf.fit(X_train,y_train)"
   ]
  },
  {
   "cell_type": "markdown",
   "id": "agricultural-violation",
   "metadata": {
    "papermill": {
     "duration": 0.017191,
     "end_time": "2022-10-26T16:38:30.471262",
     "exception": false,
     "start_time": "2022-10-26T16:38:30.454071",
     "status": "completed"
    },
    "tags": []
   },
   "source": [
    "**Here I given Two email Two detect 1st One is looking good and the other one looking spam**"
   ]
  },
  {
   "cell_type": "code",
   "execution_count": 12,
   "id": "ranking-radio",
   "metadata": {
    "execution": {
     "iopub.execute_input": "2022-10-26T16:38:30.508614Z",
     "iopub.status.busy": "2022-10-26T16:38:30.507888Z",
     "iopub.status.idle": "2022-10-26T16:38:30.511224Z",
     "shell.execute_reply": "2022-10-26T16:38:30.511715Z",
     "shell.execute_reply.started": "2021-06-21T08:27:21.253141Z"
    },
    "papermill": {
     "duration": 0.023755,
     "end_time": "2022-10-26T16:38:30.511903",
     "exception": false,
     "start_time": "2022-10-26T16:38:30.488148",
     "status": "completed"
    },
    "tags": []
   },
   "outputs": [],
   "source": [
    "emails=[\n",
    "    'Sounds great! Are you home now?',\n",
    "    'Will u meet ur dream partner soon? Is ur career off 2 a flyng start? 2 find out free, txt HORO followed by ur star sign, e. g. HORO ARIES'\n",
    "]"
   ]
  },
  {
   "cell_type": "markdown",
   "id": "broad-baptist",
   "metadata": {
    "papermill": {
     "duration": 0.016586,
     "end_time": "2022-10-26T16:38:30.545982",
     "exception": false,
     "start_time": "2022-10-26T16:38:30.529396",
     "status": "completed"
    },
    "tags": []
   },
   "source": [
    "**Predict Email**"
   ]
  },
  {
   "cell_type": "code",
   "execution_count": 13,
   "id": "czech-symphony",
   "metadata": {
    "execution": {
     "iopub.execute_input": "2022-10-26T16:38:30.586813Z",
     "iopub.status.busy": "2022-10-26T16:38:30.585918Z",
     "iopub.status.idle": "2022-10-26T16:38:30.590132Z",
     "shell.execute_reply": "2022-10-26T16:38:30.589503Z",
     "shell.execute_reply.started": "2021-06-21T08:27:21.260501Z"
    },
    "papermill": {
     "duration": 0.027069,
     "end_time": "2022-10-26T16:38:30.590324",
     "exception": false,
     "start_time": "2022-10-26T16:38:30.563255",
     "status": "completed"
    },
    "tags": []
   },
   "outputs": [
    {
     "data": {
      "text/plain": [
       "array([0, 1])"
      ]
     },
     "execution_count": 13,
     "metadata": {},
     "output_type": "execute_result"
    }
   ],
   "source": [
    "clf.predict(emails)"
   ]
  },
  {
   "cell_type": "markdown",
   "id": "economic-program",
   "metadata": {
    "papermill": {
     "duration": 0.01672,
     "end_time": "2022-10-26T16:38:30.625156",
     "exception": false,
     "start_time": "2022-10-26T16:38:30.608436",
     "status": "completed"
    },
    "tags": []
   },
   "source": [
    "# Prediction Of Model"
   ]
  },
  {
   "cell_type": "code",
   "execution_count": 14,
   "id": "daily-location",
   "metadata": {
    "execution": {
     "iopub.execute_input": "2022-10-26T16:38:30.688345Z",
     "iopub.status.busy": "2022-10-26T16:38:30.687337Z",
     "iopub.status.idle": "2022-10-26T16:38:30.693743Z",
     "shell.execute_reply": "2022-10-26T16:38:30.693151Z",
     "shell.execute_reply.started": "2021-06-21T08:27:21.274113Z"
    },
    "papermill": {
     "duration": 0.05098,
     "end_time": "2022-10-26T16:38:30.693900",
     "exception": false,
     "start_time": "2022-10-26T16:38:30.642920",
     "status": "completed"
    },
    "tags": []
   },
   "outputs": [
    {
     "data": {
      "text/plain": [
       "0.9777458722182341"
      ]
     },
     "execution_count": 14,
     "metadata": {},
     "output_type": "execute_result"
    }
   ],
   "source": [
    "clf.score(X_test,y_test)"
   ]
  }
 ],
 "metadata": {
  "kernelspec": {
   "display_name": "Python 3",
   "language": "python",
   "name": "python3"
  },
  "language_info": {
   "codemirror_mode": {
    "name": "ipython",
    "version": 3
   },
   "file_extension": ".py",
   "mimetype": "text/x-python",
   "name": "python",
   "nbconvert_exporter": "python",
   "pygments_lexer": "ipython3",
   "version": "3.7.10"
  },
  "papermill": {
   "default_parameters": {},
   "duration": 10.847266,
   "end_time": "2022-10-26T16:38:31.523672",
   "environment_variables": {},
   "exception": null,
   "input_path": "__notebook__.ipynb",
   "output_path": "__notebook__.ipynb",
   "parameters": {},
   "start_time": "2022-10-26T16:38:20.676406",
   "version": "2.3.3"
  }
 },
 "nbformat": 4,
 "nbformat_minor": 5
}
